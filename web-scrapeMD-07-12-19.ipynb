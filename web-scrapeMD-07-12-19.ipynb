{
 "cells": [
  {
   "cell_type": "code",
   "execution_count": null,
   "metadata": {},
   "outputs": [],
   "source": [
    "# Dependencies\n",
    "import os\n",
    "from bs4 import BeautifulSoup as bs\n",
    "from splinter import Browser\n",
    "import requests\n",
    "import pandas as pd\n",
    "\n",
    "import pprint\n",
    "pp = pprint.PrettyPrinter(indent=4)"
   ]
  },
  {
   "cell_type": "code",
   "execution_count": null,
   "metadata": {},
   "outputs": [],
   "source": [
    "# https://splinter.readthedocs.io/en/latest/drivers/chrome.html\n",
    "!which chromedriver"
   ]
  },
  {
   "cell_type": "code",
   "execution_count": null,
   "metadata": {},
   "outputs": [],
   "source": [
    "# For Mac\n",
    "#executable_path = {'executable_path': '/usr/local/bin/chromedriver'}\n",
    "#browser = Browser('chrome', **executable_path, headless=False)"
   ]
  },
  {
   "cell_type": "code",
   "execution_count": null,
   "metadata": {},
   "outputs": [],
   "source": [
    "For Windows\n",
    "executable_path = {'executable_path':/Users/netty/chromedriver.exe'}\n",
    "browser = Browser('chrome', **executable_path, headless=False)"
   ]
  },
  {
   "cell_type": "markdown",
   "metadata": {},
   "source": [
    "Web Scraping"
   ]
  },
  {
   "cell_type": "code",
   "execution_count": null,
   "metadata": {},
   "outputs": [],
   "source": [
    "# find website to scrape\n",
    "website_url = \"https://www.mayoclinic.org/appointments/find-a-doctor/search-results?searchterm=&locations=\""
   ]
  },
  {
   "cell_type": "code",
   "execution_count": null,
   "metadata": {},
   "outputs": [],
   "source": [
    "# call get request to get HTML\n",
    "response = requests.get(website_url)\n",
    "response"
   ]
  },
  {
   "cell_type": "code",
   "execution_count": null,
   "metadata": {},
   "outputs": [],
   "source": [
    "scraper = bs(response.text, 'html.parser')"
   ]
  },
  {
   "cell_type": "code",
   "execution_count": null,
   "metadata": {},
   "outputs": [],
   "source": [
    "print(scraper.prettify())"
   ]
  },
  {
   "cell_type": "code",
   "execution_count": null,
   "metadata": {},
   "outputs": [],
   "source": [
    "# we find the container that has all of the doctor info\n",
    "doctor_list = scraper.find('ol', class_=\"result-items\")\n",
    "\n",
    "# break up the whole section into rows\n",
    "doctor_sections = doctor_list.find_all('li')\n",
    "doctor_sections"
   ]
  },
  {
   "cell_type": "code",
   "execution_count": null,
   "metadata": {},
   "outputs": [],
   "source": [
    "# want to grab just doctor info and not the inner info\n",
    "doctor_list = []\n",
    "\n",
    "for row in doctor_sections:    \n",
    "    # let's try to find the name, speciality, location, bio\n",
    "    \n",
    "    # get name\n",
    "    if (row.a != None):\n",
    "        name = row.a.text\n",
    "        print(name)\n",
    "        \n",
    "    # get speciality\n",
    "    if (row.find('ol', class_=\"speciality\") != None):\n",
    "        speciality = row.find('ol', class_=\"speciality\").li.text\n",
    "        print(speciality)\n",
    "        \n",
    "    # get location\n",
    "    if (row.find('ol', class_=\"location\") != None):\n",
    "        location = row.find('ol', class_=\"location\").li.text\n",
    "        print(location)\n",
    "    \n",
    "    # get bio\n",
    "    if (row.find('p', class_=\"bio-areas\") != None):\n",
    "        bio_areas = row.find('p', class_=\"bio-areas\").text\n",
    "        bio_areas = bio_areas.lstrip()\n",
    "        bio_areas = bio_areas.rstrip()\n",
    "        print(bio_areas)\n",
    "    \n",
    "    # create doctor dictionary\n",
    "    doctor_info = {\n",
    "        'name': name,\n",
    "        'speciality': speciality,\n",
    "        'location': location,\n",
    "        'bio_areas': bio_areas\n",
    "    }\n",
    "    \n",
    "    # add dictionary to list\n",
    "    doctor_list.append(doctor_info)"
   ]
  },
  {
   "cell_type": "code",
   "execution_count": null,
   "metadata": {},
   "outputs": [],
   "source": [
    "doctor_list"
   ]
  },
  {
   "cell_type": "code",
   "execution_count": null,
   "metadata": {},
   "outputs": [],
   "source": [
    "doctors_df = pd.DataFrame(doctor_list)\n",
    "doctors_df.drop_duplicates()"
   ]
  },
  {
   "cell_type": "code",
   "execution_count": null,
   "metadata": {},
   "outputs": [],
   "source": []
  }
 ],
 "metadata": {
  "kernelspec": {
   "display_name": "Python 3",
   "language": "python",
   "name": "python3"
  },
  "language_info": {
   "codemirror_mode": {
    "name": "ipython",
    "version": 3
   },
   "file_extension": ".py",
   "mimetype": "text/x-python",
   "name": "python",
   "nbconvert_exporter": "python",
   "pygments_lexer": "ipython3",
   "version": "3.6.8"
  }
 },
 "nbformat": 4,
 "nbformat_minor": 2
}
